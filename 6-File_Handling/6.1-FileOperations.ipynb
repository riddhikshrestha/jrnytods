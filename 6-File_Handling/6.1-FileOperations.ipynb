{
 "cells": [
  {
   "cell_type": "markdown",
   "metadata": {},
   "source": [
    "#### File Operation - Read and Write Files\n",
    "##### File handling is a crucial part of any programming language. Python provides built-in functions and method to read from and write to files, both text and binary."
   ]
  },
  {
   "cell_type": "code",
   "execution_count": 2,
   "metadata": {},
   "outputs": [
    {
     "name": "stdout",
     "output_type": "stream",
     "text": [
      "Hello Programmer!\n",
      "Happy Coding!!\n"
     ]
    }
   ],
   "source": [
    "## Read a whole file\n",
    "\n",
    "with open('example.txt','r') as file:\n",
    "    content=file.read()\n",
    "    print(content)"
   ]
  },
  {
   "cell_type": "code",
   "execution_count": 6,
   "metadata": {},
   "outputs": [
    {
     "name": "stdout",
     "output_type": "stream",
     "text": [
      "Hello Programmer!\n",
      "\n",
      "Happy Coding!!\n"
     ]
    }
   ],
   "source": [
    "## Read a file line by line\n",
    "with open('example.txt','r') as file:\n",
    "    for line in file:\n",
    "        print(line)  ## It also take \\n as line too \n",
    "        #print(line.strip())   ## remove the new line character"
   ]
  },
  {
   "cell_type": "code",
   "execution_count": 7,
   "metadata": {},
   "outputs": [],
   "source": [
    "## Writing a file(overwriting)\n",
    "with open('example.txt','w') as file:\n",
    "    file.write('Riddhi K. Shrestha\\n')\n",
    "    file.write('Kathmandu 32')"
   ]
  },
  {
   "cell_type": "code",
   "execution_count": 8,
   "metadata": {},
   "outputs": [],
   "source": [
    "## Write a file(without overwriting)\n",
    "with open('example.txt','a') as file:   # append mode\n",
    "    file.write('\\nSenior Software Engineer')"
   ]
  },
  {
   "cell_type": "code",
   "execution_count": 9,
   "metadata": {},
   "outputs": [],
   "source": [
    "## Write a list of lines to a file\n",
    "line = ['First line\\n','Second line\\n','Third line\\n']\n",
    "with open('example.txt','a') as file:\n",
    "    file.writelines(line)"
   ]
  },
  {
   "cell_type": "code",
   "execution_count": 10,
   "metadata": {},
   "outputs": [],
   "source": [
    "## Binary Files: file in .bin extension\n",
    "\n",
    "# write to a binary file\n",
    "data = b'\\x00\\x01\\x02\\x03\\x04'\n",
    "with open('example.bin','wb') as file:\n",
    "    file.write(data)"
   ]
  },
  {
   "cell_type": "code",
   "execution_count": 11,
   "metadata": {},
   "outputs": [
    {
     "name": "stdout",
     "output_type": "stream",
     "text": [
      "b'\\x00\\x01\\x02\\x03\\x04'\n"
     ]
    }
   ],
   "source": [
    "# Read from a binary file\n",
    "\n",
    "with open('example.bin','rb') as file:\n",
    "    content=file.read()\n",
    "    print(content)"
   ]
  },
  {
   "cell_type": "code",
   "execution_count": 12,
   "metadata": {},
   "outputs": [],
   "source": [
    "## Read the content from source text file and write to a destination text file\n",
    "\n",
    "# Copying a text file\n",
    "with open('example.txt','r') as source_file:\n",
    "    content = source_file.read()\n",
    "\n",
    "with open('destination.txt','w') as destination_file:\n",
    "    destination_file.write(content)"
   ]
  },
  {
   "cell_type": "code",
   "execution_count": 13,
   "metadata": {},
   "outputs": [
    {
     "name": "stdout",
     "output_type": "stream",
     "text": [
      "Lines: 5, Words: 13, Characters: 90\n"
     ]
    }
   ],
   "source": [
    "## Q. Read a text file and count the number of lines, words, and characters?\n",
    "\n",
    "## Count lines, words, and characaters in a text file\n",
    "def count_text_file(file_path):\n",
    "    with open(file_path,'r') as file:\n",
    "        lines = file.readlines()\n",
    "        line_count = len(lines)\n",
    "        word_count = sum(len(line.split()) for line in lines)\n",
    "        char_count = sum(len(line) for line in lines)\n",
    "\n",
    "    return line_count,word_count,char_count\n",
    "\n",
    "file_path = 'example.txt'\n",
    "lines,words,characters = count_text_file(file_path)\n",
    "print(f'Lines: {lines}, Words: {words}, Characters: {characters}')"
   ]
  },
  {
   "cell_type": "markdown",
   "metadata": {},
   "source": [
    "### Write and then read from a file\n",
    "#### The W+ mode in Python is used to open a file for both reading and writing.\n",
    "#### If the file does not exist, it will be created.\n",
    "#### If the file exists, its content is truncated (i.e. the file is overwritten)."
   ]
  },
  {
   "cell_type": "code",
   "execution_count": 16,
   "metadata": {},
   "outputs": [
    {
     "name": "stdout",
     "output_type": "stream",
     "text": [
      "Journey to the DS\n",
      "Have a wounderful journey.\n",
      "\n"
     ]
    }
   ],
   "source": [
    "## Writing and then reading a file\n",
    "\n",
    "with open('example.txt','w+') as file:\n",
    "    file.write(\"Journey to the DS\\n\")\n",
    "    file.write(\"Have a wounderful journey.\\n\")\n",
    "\n",
    "    ## Move the file cursor to the begnning\n",
    "    file.seek(0)  # move file cursor to begining, hints: try to comment this line and execute the whole cell , see what will happen?\n",
    "\n",
    "    #Read the content of the file\n",
    "    content = file.read()\n",
    "    print(content)\n"
   ]
  },
  {
   "cell_type": "code",
   "execution_count": null,
   "metadata": {},
   "outputs": [],
   "source": []
  }
 ],
 "metadata": {
  "kernelspec": {
   "display_name": "Python 3",
   "language": "python",
   "name": "python3"
  },
  "language_info": {
   "codemirror_mode": {
    "name": "ipython",
    "version": 3
   },
   "file_extension": ".py",
   "mimetype": "text/x-python",
   "name": "python",
   "nbconvert_exporter": "python",
   "pygments_lexer": "ipython3",
   "version": "3.12.3"
  }
 },
 "nbformat": 4,
 "nbformat_minor": 2
}
