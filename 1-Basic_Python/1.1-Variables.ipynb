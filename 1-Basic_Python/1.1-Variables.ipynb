{
 "cells": [
  {
   "cell_type": "markdown",
   "metadata": {},
   "source": [
    "## Variables\n",
    "### Variables are fundamental elements in programming used to store data that can be referenced and manipulated in a program. In python, vairables are created when you assgn a value to them, and do not need explicit declaration to reserve memory space. The declaration happens automatically when you assign a value to a variable.\n",
    "- Variable\n",
    "- Declare and assign variable\n",
    "- Naming conventions\n",
    "- Understanding Variable Types\n",
    "- Type Checking and Conversion\n",
    "- Dynamic Typing"
   ]
  },
  {
   "cell_type": "code",
   "execution_count": 1,
   "metadata": {},
   "outputs": [
    {
     "name": "stdout",
     "output_type": "stream",
     "text": [
      "age : 30\n",
      "Height : 5.5\n",
      "Name : Riddhi\n"
     ]
    }
   ],
   "source": [
    "# Declaring and assining variables\n",
    "age = 30\n",
    "height = 5.5\n",
    "name = \"Riddhi\"\n",
    "is_student = True\n",
    "\n",
    "## Priing the variables\n",
    "print(\"age :\",age)\n",
    "print(\"Height :\",height)\n",
    "print(\"Name :\",name)\n"
   ]
  },
  {
   "cell_type": "code",
   "execution_count": 2,
   "metadata": {},
   "outputs": [],
   "source": [
    "## Naming Conventions\n",
    "## Variable names should be descriptive\n",
    "## They must alway start with a letter or with '_' and contain letter, numbers and underscores\n",
    "## Variables names are case sensitive\n",
    "\n",
    "# Valid variable name\n",
    "first_name = \"Riddhi\"\n",
    "last_name = \"Shrestha\"\n",
    "\n",
    "# Invalid variable name\n",
    "# 2age = 30\n",
    "# first-name = \"Riddhi\"\n",
    "# @last_name = \"Shrestha\""
   ]
  },
  {
   "cell_type": "code",
   "execution_count": 3,
   "metadata": {},
   "outputs": [
    {
     "data": {
      "text/plain": [
       "False"
      ]
     },
     "execution_count": 3,
     "metadata": {},
     "output_type": "execute_result"
    }
   ],
   "source": [
    "## Case Sensitivity\n",
    "name = \"Riddhi\"\n",
    "Name = \"Prem\"\n",
    "\n",
    "name == Name"
   ]
  },
  {
   "cell_type": "code",
   "execution_count": 4,
   "metadata": {},
   "outputs": [
    {
     "name": "stdout",
     "output_type": "stream",
     "text": [
      "<class 'int'>\n",
      "<class 'str'>\n"
     ]
    }
   ],
   "source": [
    "## Variable Types\n",
    "## Python is dynamically typed, the type of variable is determined at run time.\n",
    "age = 25\n",
    "height = 5.6\n",
    "name = \"Riddhi\"\n",
    "is_student = True\n",
    "\n",
    "print(type(age))\n",
    "print(type(name))"
   ]
  },
  {
   "cell_type": "code",
   "execution_count": 5,
   "metadata": {},
   "outputs": [
    {
     "data": {
      "text/plain": [
       "float"
      ]
     },
     "execution_count": 5,
     "metadata": {},
     "output_type": "execute_result"
    }
   ],
   "source": [
    "## Type Checking and Conversion\n",
    "type(height)"
   ]
  },
  {
   "cell_type": "code",
   "execution_count": 6,
   "metadata": {},
   "outputs": [
    {
     "name": "stdout",
     "output_type": "stream",
     "text": [
      "<class 'int'>\n",
      "25\n",
      "<class 'str'>\n"
     ]
    }
   ],
   "source": [
    "# Can we convert one type to another\n",
    "age = 25\n",
    "print(type(age))\n",
    "\n",
    "# Type conversion\n",
    "age_str = str(age)\n",
    "print(age_str)\n",
    "print(type(age_str))"
   ]
  },
  {
   "cell_type": "code",
   "execution_count": 7,
   "metadata": {},
   "outputs": [
    {
     "name": "stdout",
     "output_type": "stream",
     "text": [
      "<class 'int'>\n"
     ]
    }
   ],
   "source": [
    "age = '25'  # can we convert it to integer\n",
    "print(type(int(age)))"
   ]
  },
  {
   "cell_type": "code",
   "execution_count": 8,
   "metadata": {},
   "outputs": [
    {
     "ename": "ValueError",
     "evalue": "invalid literal for int() with base 10: 'Riddhi'",
     "output_type": "error",
     "traceback": [
      "\u001b[1;31m---------------------------------------------------------------------------\u001b[0m",
      "\u001b[1;31mValueError\u001b[0m                                Traceback (most recent call last)",
      "Cell \u001b[1;32mIn[8], line 2\u001b[0m\n\u001b[0;32m      1\u001b[0m name \u001b[38;5;241m=\u001b[39m \u001b[38;5;124m\"\u001b[39m\u001b[38;5;124mRiddhi\u001b[39m\u001b[38;5;124m\"\u001b[39m  \u001b[38;5;66;03m# can we convert this name to string: Answer is No, because it is completly string type variable\u001b[39;00m\n\u001b[1;32m----> 2\u001b[0m \u001b[38;5;28;43mint\u001b[39;49m\u001b[43m(\u001b[49m\u001b[43mname\u001b[49m\u001b[43m)\u001b[49m\n",
      "\u001b[1;31mValueError\u001b[0m: invalid literal for int() with base 10: 'Riddhi'"
     ]
    }
   ],
   "source": [
    "name = \"Riddhi\"  # can we convert this name to string: Answer is No, because it is completly string type variable\n",
    "int(name)"
   ]
  },
  {
   "cell_type": "code",
   "execution_count": 11,
   "metadata": {},
   "outputs": [
    {
     "data": {
      "text/plain": [
       "5.0"
      ]
     },
     "execution_count": 11,
     "metadata": {},
     "output_type": "execute_result"
    }
   ],
   "source": [
    "height = 5.6    \n",
    "type(height)\n",
    "# Can we convert this float to integer: Yes\n",
    "int(height)  \n",
    "# can again convert int to float\n",
    "float(int(height))\n"
   ]
  },
  {
   "cell_type": "code",
   "execution_count": 12,
   "metadata": {},
   "outputs": [
    {
     "name": "stdout",
     "output_type": "stream",
     "text": [
      "10 <class 'int'>\n",
      "Hello <class 'str'>\n",
      "3.4321 <class 'float'>\n"
     ]
    }
   ],
   "source": [
    "## Dynamic Typing\n",
    "## Python allows the type of variable to change as the program executes\n",
    "var = 10\n",
    "print(var,type(var))\n",
    "\n",
    "var = \"Hello\"\n",
    "print(var, type(var))\n",
    "\n",
    "var = 3.4321\n",
    "print(var, type(var))\n",
    "\n"
   ]
  },
  {
   "cell_type": "code",
   "execution_count": 15,
   "metadata": {},
   "outputs": [
    {
     "name": "stdout",
     "output_type": "stream",
     "text": [
      "23 <class 'int'>\n"
     ]
    }
   ],
   "source": [
    "## Input\n",
    "## User want to give some value in you program\n",
    "\n",
    "age = int(input(\"What is your age?\"))\n",
    "print(age,type(age))"
   ]
  },
  {
   "cell_type": "code",
   "execution_count": 16,
   "metadata": {},
   "outputs": [
    {
     "name": "stdout",
     "output_type": "stream",
     "text": [
      "Sum : 99.0\n",
      "Difference:  13.0\n",
      "mulitply : 2408.0\n",
      "Division :  1.302325581395349\n"
     ]
    }
   ],
   "source": [
    "## Smple Calculator\n",
    "num1 = float(input(\"Enter first number\"))\n",
    "num2 = float(input(\"Enter second number\"))\n",
    "\n",
    "sum = num1+num2\n",
    "difference  = num1 - num2\n",
    "multiply = num1*num2\n",
    "division = num1 / num2\n",
    "\n",
    "print(\"Sum :\", sum)\n",
    "print(\"Difference: \",difference)\n",
    "print(\"mulitply :\",multiply)\n",
    "print(\"Division : \",division)"
   ]
  },
  {
   "cell_type": "code",
   "execution_count": null,
   "metadata": {},
   "outputs": [],
   "source": []
  }
 ],
 "metadata": {
  "kernelspec": {
   "display_name": "Python 3",
   "language": "python",
   "name": "python3"
  },
  "language_info": {
   "codemirror_mode": {
    "name": "ipython",
    "version": 3
   },
   "file_extension": ".py",
   "mimetype": "text/x-python",
   "name": "python",
   "nbconvert_exporter": "python",
   "pygments_lexer": "ipython3",
   "version": "3.12.3"
  }
 },
 "nbformat": 4,
 "nbformat_minor": 2
}
