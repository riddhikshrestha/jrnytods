{
 "cells": [
  {
   "cell_type": "markdown",
   "metadata": {},
   "source": [
    "### RealWorld Example Using Lists\n",
    "\n",
    "#### Lists are one of the most commonly used data structures in Python, versatility and ease of use"
   ]
  },
  {
   "cell_type": "markdown",
   "metadata": {},
   "source": [
    "#### Example 1. Manage A To Do List\n",
    "\n",
    "- Create a To Do List To Keep Track of Task"
   ]
  },
  {
   "cell_type": "code",
   "execution_count": 1,
   "metadata": {},
   "outputs": [
    {
     "name": "stdout",
     "output_type": "stream",
     "text": [
      "Don't forget to pay Internet bill.\n",
      "To do list remaining\n",
      "- Buy Groceries\n",
      "- Pay Internet Bill\n",
      "- Schedule  meeting\n",
      "- Evening Walk\n"
     ]
    }
   ],
   "source": [
    "to_do_list = [\"Buy Groceries\",\"Clean the room\",\"Pay Internet Bill\"]\n",
    "\n",
    "## add to task\n",
    "to_do_list.append(\"Schedule  meeting\")\n",
    "to_do_list.append(\"Evening Walk\")\n",
    "\n",
    "## Removing a completed task\n",
    "to_do_list.remove(\"Clean the room\")\n",
    "\n",
    "## check if the task is in the list\n",
    "if \"Pay Internet Bill\" in to_do_list:\n",
    "    print(\"Don't forget to pay Internet bill.\")\n",
    "\n",
    "print(\"To do list remaining\")\n",
    "for task in to_do_list:\n",
    "    print(f\"- {task}\")"
   ]
  },
  {
   "cell_type": "markdown",
   "metadata": {},
   "source": [
    "#### Example 2: Organizing Student Grades\n",
    "- Create a list to store and calculae averae for students"
   ]
  },
  {
   "cell_type": "code",
   "execution_count": 2,
   "metadata": {},
   "outputs": [
    {
     "name": "stdout",
     "output_type": "stream",
     "text": [
      "Average grade: 84.67\n",
      "Highest Grade: 95\n",
      "Lowest Grade: 68\n"
     ]
    }
   ],
   "source": [
    "## Organizing student grades\n",
    "grades = [85,92,68,90,78]\n",
    "## add a new grade\n",
    "grades.append(95)\n",
    "\n",
    "## Calcualte the average grade\n",
    "average_grade = sum(grades) / len(grades)\n",
    "print(f\"Average grade: {average_grade:.2f}\")\n",
    "\n",
    "## Find the highest and lowest grades\n",
    "highest_grade = max(grades)\n",
    "lowest_grade = min(grades)\n",
    "print(f\"Highest Grade: {highest_grade}\")\n",
    "print(f\"Lowest Grade: {lowest_grade}\")"
   ]
  },
  {
   "cell_type": "markdown",
   "metadata": {},
   "source": [
    "#### Example 3: Managing An Inventory\n",
    "- Use a list to manage inventory items in a store\n"
   ]
  },
  {
   "cell_type": "code",
   "execution_count": 4,
   "metadata": {},
   "outputs": [
    {
     "name": "stdout",
     "output_type": "stream",
     "text": [
      "oragnes are in the stock.\n",
      "Inventory List\n",
      "- apples\n",
      "- oragnes\n",
      "- grapes\n",
      "- strawberries\n"
     ]
    }
   ],
   "source": [
    "## Manageing an inventory\n",
    "inventory = [\"apples\",\"bananas\",\"oragnes\",\"grapes\"]\n",
    "\n",
    "## adding a new item\n",
    "inventory.append(\"strawberries\")\n",
    "\n",
    "## Removing an item that is out of stock\n",
    "inventory.remove(\"bananas\")\n",
    "\n",
    "## Checking if an item is in stock\n",
    "item = \"oragnes\"\n",
    "if item in inventory:\n",
    "    print(f\"{item} are in the stock.\")\n",
    "else:\n",
    "    print(f\"{item} are out of stock.\")\n",
    "\n",
    "## Prining the inventory\n",
    "print(\"Inventory List\")\n",
    "for item in inventory:\n",
    "    print(f\"- {item}\")"
   ]
  },
  {
   "cell_type": "markdown",
   "metadata": {},
   "source": [
    "#### Example 4: Collecting User Feedback\n",
    "- use a list to collect and analyze user feedback."
   ]
  },
  {
   "cell_type": "code",
   "execution_count": 5,
   "metadata": {},
   "outputs": [
    {
     "name": "stdout",
     "output_type": "stream",
     "text": [
      "Positive Feedbac Count: 2\n",
      "User Feedback: \n",
      "- Great service!\n",
      "- Very Satisfied\n",
      "- Could be better\n",
      "- Excellent experience\n",
      "- Not happy with the service\n"
     ]
    }
   ],
   "source": [
    "## Collecting user feedback\n",
    "feeback = [\"Great service!\",\"Very Satisfied\",\"Could be better\",\"Excellent experience\"]\n",
    "\n",
    "## adding new feedback\n",
    "feeback.append(\"Not happy with the service\")\n",
    "\n",
    "# Counting specific feedback\n",
    "positive_feedback_count = sum(1 for comment in feeback if \"great\" in comment.lower() or \"excellent\" in comment.lower())\n",
    "print(f\"Positive Feedbac Count: {positive_feedback_count}\")\n",
    "\n",
    "## printing all feedback\n",
    "print(\"User Feedback: \")\n",
    "for comment in feeback:\n",
    "    print(f\"- {comment}\")"
   ]
  },
  {
   "cell_type": "code",
   "execution_count": null,
   "metadata": {},
   "outputs": [],
   "source": []
  }
 ],
 "metadata": {
  "kernelspec": {
   "display_name": "Python 3",
   "language": "python",
   "name": "python3"
  },
  "language_info": {
   "codemirror_mode": {
    "name": "ipython",
    "version": 3
   },
   "file_extension": ".py",
   "mimetype": "text/x-python",
   "name": "python",
   "nbconvert_exporter": "python",
   "pygments_lexer": "ipython3",
   "version": "3.12.3"
  }
 },
 "nbformat": 4,
 "nbformat_minor": 2
}
