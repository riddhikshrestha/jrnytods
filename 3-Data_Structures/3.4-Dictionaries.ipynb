{
 "cells": [
  {
   "cell_type": "markdown",
   "metadata": {},
   "source": [
    "## Dictionary\n",
    "### Outline:\n",
    "#### 1. Introduction to Dictinaries\n",
    "#### 2. Creating a Dictionaries\n",
    "#### 3. Accessing Dictionary Elements\n",
    "#### 4. Modfying Dictionary Elements\n",
    "#### 5. Dictionary Methods\n",
    "#### 6. Iterating Over Dictionaries\n",
    "#### 7. Nested Dictionaries\n",
    "#### 8. Dictionary Comprehensions\n",
    "#### 9. Examples and Common Errors"
   ]
  },
  {
   "cell_type": "markdown",
   "metadata": {},
   "source": [
    "### Introduction to Dictionaries\n",
    "#### Dictionaries are unordered collections of items. They store data in key-value pairs. Keys must be unique and immutable (e.g. strings, numbers, or tuples), while values can be of any type."
   ]
  },
  {
   "cell_type": "code",
   "execution_count": 1,
   "metadata": {},
   "outputs": [
    {
     "name": "stdout",
     "output_type": "stream",
     "text": [
      "<class 'dict'>\n"
     ]
    }
   ],
   "source": [
    "## Creating Dictionaries\n",
    "empty_dict = {}\n",
    "print(type(empty_dict))"
   ]
  },
  {
   "cell_type": "code",
   "execution_count": 2,
   "metadata": {},
   "outputs": [
    {
     "data": {
      "text/plain": [
       "{}"
      ]
     },
     "execution_count": 2,
     "metadata": {},
     "output_type": "execute_result"
    }
   ],
   "source": [
    "empty_dict = dict()\n",
    "empty_dict"
   ]
  },
  {
   "cell_type": "code",
   "execution_count": 4,
   "metadata": {},
   "outputs": [
    {
     "name": "stdout",
     "output_type": "stream",
     "text": [
      "{'name': 'Riddhi', 'age': 32, 'grade': 42}\n",
      "<class 'dict'>\n"
     ]
    }
   ],
   "source": [
    "students = {\"name\":\"Riddhi\",\"age\":32,\"grade\":42}\n",
    "print(students)\n",
    "print(type(students))"
   ]
  },
  {
   "cell_type": "code",
   "execution_count": 6,
   "metadata": {},
   "outputs": [
    {
     "name": "stdout",
     "output_type": "stream",
     "text": [
      "{'name': 42, 'age': 32}\n"
     ]
    }
   ],
   "source": [
    "# Single key is always used : key should be unique\n",
    "students = {\"name\":\"Riddhi\",\"age\":32,\"name\":42}\n",
    "print(students)"
   ]
  },
  {
   "cell_type": "code",
   "execution_count": 7,
   "metadata": {},
   "outputs": [
    {
     "name": "stdout",
     "output_type": "stream",
     "text": [
      "{'name': 'Riddhi', 'age': 32, 'grade': 'A'}\n"
     ]
    }
   ],
   "source": [
    "## Accesing dictionary elements\n",
    "students = {\"name\":\"Riddhi\",\"age\":32,\"grade\":'A'}\n",
    "print(students)"
   ]
  },
  {
   "cell_type": "code",
   "execution_count": 11,
   "metadata": {},
   "outputs": [
    {
     "name": "stdout",
     "output_type": "stream",
     "text": [
      "A\n",
      "32\n",
      "A\n",
      "None\n",
      "Not Available\n"
     ]
    }
   ],
   "source": [
    "## Accessing Dictionary elements\n",
    "print(students['grade'])\n",
    "print(students['age'])\n",
    "\n",
    "## Accessing using get() method , that is provide by dictionary\n",
    "print(students.get('grade'))\n",
    "print(students.get('last_name'))\n",
    "# If we want to find out key which is not avaialbe, and want to provide deault value is\n",
    "print(students.get('last_name',\"Not Available\"))"
   ]
  },
  {
   "cell_type": "code",
   "execution_count": 12,
   "metadata": {},
   "outputs": [
    {
     "name": "stdout",
     "output_type": "stream",
     "text": [
      "{'name': 'Riddhi', 'age': 32, 'grade': 'A'}\n"
     ]
    }
   ],
   "source": [
    "## Modifying Dictionary Elements\n",
    "## Dictionary are mutable, so you can add, update or delete elements\n",
    "print(students)"
   ]
  },
  {
   "cell_type": "code",
   "execution_count": 13,
   "metadata": {},
   "outputs": [
    {
     "name": "stdout",
     "output_type": "stream",
     "text": [
      "{'name': 'Riddhi', 'age': 33, 'grade': 'A'}\n",
      "{'name': 'Riddhi', 'age': 33, 'grade': 'A', 'address': 'Nepal'}\n"
     ]
    }
   ],
   "source": [
    "students[\"age\"] = 33  ## Update the value for the key\n",
    "print(students)\n",
    "students[\"address\"] = \"Nepal\"  ## added a new key and value\n",
    "print(students)"
   ]
  },
  {
   "cell_type": "code",
   "execution_count": 14,
   "metadata": {},
   "outputs": [
    {
     "name": "stdout",
     "output_type": "stream",
     "text": [
      "{'name': 'Riddhi', 'age': 33, 'address': 'Nepal'}\n"
     ]
    }
   ],
   "source": [
    "## delete the key\n",
    "del students['grade']  ## delete key and value pair\n",
    "print(students)"
   ]
  },
  {
   "cell_type": "code",
   "execution_count": 15,
   "metadata": {},
   "outputs": [
    {
     "name": "stdout",
     "output_type": "stream",
     "text": [
      "dict_keys(['name', 'age', 'address'])\n",
      "dict_values(['Riddhi', 33, 'Nepal'])\n",
      "dict_items([('name', 'Riddhi'), ('age', 33), ('address', 'Nepal')])\n"
     ]
    }
   ],
   "source": [
    "## Dictionary methods \n",
    "\n",
    "keys = students.keys()  ## get all the keys\n",
    "print(keys)\n",
    "\n",
    "values = students.values()  ## get all values\n",
    "print(values)\n",
    "\n",
    "items = students.items()   # all key value pairs\n",
    "print(items)"
   ]
  },
  {
   "cell_type": "code",
   "execution_count": 16,
   "metadata": {},
   "outputs": [
    {
     "name": "stdout",
     "output_type": "stream",
     "text": [
      "{'name': 'Riddhi', 'age': 33, 'address': 'Nepal'}\n",
      "{'name': 'Riddhi', 'age': 33, 'address': 'Nepal'}\n"
     ]
    }
   ],
   "source": [
    "## shallow copy\n",
    "student_copy = students\n",
    "print(students)\n",
    "print(student_copy)"
   ]
  },
  {
   "cell_type": "code",
   "execution_count": 17,
   "metadata": {},
   "outputs": [
    {
     "name": "stdout",
     "output_type": "stream",
     "text": [
      "{'name': 'Prem', 'age': 33, 'address': 'Nepal'}\n",
      "{'name': 'Prem', 'age': 33, 'address': 'Nepal'}\n"
     ]
    }
   ],
   "source": [
    "students[\"name\"] = \"Prem\"\n",
    "print(students)\n",
    "print(student_copy)"
   ]
  },
  {
   "cell_type": "code",
   "execution_count": 20,
   "metadata": {},
   "outputs": [
    {
     "name": "stdout",
     "output_type": "stream",
     "text": [
      "{'name': 'Riddhi Shrestha', 'age': 33, 'address': 'Nepal'}\n",
      "{'name': 'Riddhi Shrestha', 'age': 33, 'address': 'Nepal'}\n"
     ]
    }
   ],
   "source": [
    "## this is a big issues while performing on projects and to resolve the problem we have to use shallow copy\n",
    "student_copy1 = students.copy()  ## shallow copy provide different memory location allocation for student_copy1 and students\n",
    "print(students)\n",
    "print(student_copy1)"
   ]
  },
  {
   "cell_type": "code",
   "execution_count": 19,
   "metadata": {},
   "outputs": [
    {
     "name": "stdout",
     "output_type": "stream",
     "text": [
      "{'name': 'Riddhi Shrestha', 'age': 33, 'address': 'Nepal'}\n",
      "{'name': 'Prem', 'age': 33, 'address': 'Nepal'}\n"
     ]
    }
   ],
   "source": [
    "students[\"name\"] = \"Riddhi Shrestha\"\n",
    "print(students)\n",
    "print(student_copy1)"
   ]
  },
  {
   "cell_type": "code",
   "execution_count": 23,
   "metadata": {},
   "outputs": [
    {
     "name": "stdout",
     "output_type": "stream",
     "text": [
      "name\n",
      "age\n",
      "address\n",
      "Riddhi Shrestha\n",
      "33\n",
      "Nepal\n",
      "name:Riddhi Shrestha\n",
      "age:33\n",
      "address:Nepal\n"
     ]
    }
   ],
   "source": [
    "## Iterating over Dictionaries\n",
    "## You can loops to iterate over dictionaries, keys,values or items(combination of key and values)\n",
    "\n",
    "## Iterating over keys\n",
    "for keys in students.keys():\n",
    "    print(keys)\n",
    "\n",
    "## Iterate over value\n",
    "for value in students.values():\n",
    "    print(value)    \n",
    "\n",
    "## Iterate over key value pair\n",
    "for key,value in students.items():\n",
    "    print(f\"{key}:{value}\")"
   ]
  },
  {
   "cell_type": "code",
   "execution_count": 24,
   "metadata": {},
   "outputs": [
    {
     "name": "stdout",
     "output_type": "stream",
     "text": [
      "{'student1': {'name': 'RKS', 'age': 32}, 'student2': {'name': 'PS', 'age': 27}}\n"
     ]
    }
   ],
   "source": [
    "## Nested Dictionaries\n",
    "students = {\n",
    "    \"student1\":{\"name\":\"RKS\",\"age\":32},\n",
    "    \"student2\":{\"name\":\"PS\",\"age\":27}\n",
    "}\n",
    "print(students)"
   ]
  },
  {
   "cell_type": "code",
   "execution_count": 25,
   "metadata": {},
   "outputs": [
    {
     "name": "stdout",
     "output_type": "stream",
     "text": [
      "PS\n",
      "27\n"
     ]
    }
   ],
   "source": [
    "## Access nested dictionaries elements\n",
    "print(students[\"student2\"][\"name\"])\n",
    "print(students[\"student2\"][\"age\"])"
   ]
  },
  {
   "cell_type": "code",
   "execution_count": 26,
   "metadata": {},
   "outputs": [
    {
     "data": {
      "text/plain": [
       "dict_items([('student1', {'name': 'RKS', 'age': 32}), ('student2', {'name': 'PS', 'age': 27})])"
      ]
     },
     "execution_count": 26,
     "metadata": {},
     "output_type": "execute_result"
    }
   ],
   "source": [
    "students.items()"
   ]
  },
  {
   "cell_type": "code",
   "execution_count": 27,
   "metadata": {},
   "outputs": [
    {
     "name": "stdout",
     "output_type": "stream",
     "text": [
      "student1:{'name': 'RKS', 'age': 32}\n",
      "name:RKS\n",
      "age:32\n",
      "student2:{'name': 'PS', 'age': 27}\n",
      "name:PS\n",
      "age:27\n"
     ]
    }
   ],
   "source": [
    "## Iterating over nested dictionaries\n",
    "for student_id,student_info in students.items():\n",
    "    print(f\"{student_id}:{student_info}\")\n",
    "    for key,value in student_info.items():\n",
    "        print(f\"{key}:{value}\")"
   ]
  },
  {
   "cell_type": "code",
   "execution_count": 28,
   "metadata": {},
   "outputs": [
    {
     "name": "stdout",
     "output_type": "stream",
     "text": [
      "{0: 0, 1: 1, 2: 4, 3: 9, 4: 16}\n"
     ]
    }
   ],
   "source": [
    "## Dictionary Comprehension\n",
    "squares = {x:x**2 for x in range(5)}\n",
    "print(squares)"
   ]
  },
  {
   "cell_type": "code",
   "execution_count": 29,
   "metadata": {},
   "outputs": [
    {
     "name": "stdout",
     "output_type": "stream",
     "text": [
      "{0: 0, 2: 4, 4: 16, 6: 36, 8: 64}\n"
     ]
    }
   ],
   "source": [
    "## Conditional dictionary compreshension\n",
    "evens = {x: x**2 for x in range(10) if x%2==0}\n",
    "print(evens)"
   ]
  },
  {
   "cell_type": "code",
   "execution_count": 30,
   "metadata": {},
   "outputs": [
    {
     "name": "stdout",
     "output_type": "stream",
     "text": [
      "{1: 1, 2: 5, 3: 2, 4: 5}\n"
     ]
    }
   ],
   "source": [
    "## Practical examples\n",
    "\n",
    "## Use a dictionary to count be frequency of element in list\n",
    "\n",
    "numbers = [1,2,2,2,2,2,3,3,4,4,4,4,4]\n",
    "frequency = {}\n",
    "for number in numbers:\n",
    "    if number in frequency:\n",
    "        frequency[number] +=1\n",
    "    else:\n",
    "        frequency[number]=1\n",
    "\n",
    "print(frequency)    "
   ]
  },
  {
   "cell_type": "code",
   "execution_count": 31,
   "metadata": {},
   "outputs": [
    {
     "name": "stdout",
     "output_type": "stream",
     "text": [
      "{'a': 1, 'b': 3, 'c': 4}\n"
     ]
    }
   ],
   "source": [
    "## Merge two dictionaries into one\n",
    "dict1 = {\"a\":1,\"b\":2}\n",
    "dict2 = {\"b\":3,\"c\":4}\n",
    "merged_dict = {**dict1,**dict2}\n",
    "print(merged_dict)"
   ]
  },
  {
   "cell_type": "code",
   "execution_count": null,
   "metadata": {},
   "outputs": [],
   "source": []
  }
 ],
 "metadata": {
  "kernelspec": {
   "display_name": "Python 3",
   "language": "python",
   "name": "python3"
  },
  "language_info": {
   "codemirror_mode": {
    "name": "ipython",
    "version": 3
   },
   "file_extension": ".py",
   "mimetype": "text/x-python",
   "name": "python",
   "nbconvert_exporter": "python",
   "pygments_lexer": "ipython3",
   "version": "3.12.3"
  }
 },
 "nbformat": 4,
 "nbformat_minor": 2
}
