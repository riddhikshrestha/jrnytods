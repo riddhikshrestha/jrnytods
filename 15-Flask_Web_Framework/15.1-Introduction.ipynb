{
 "cells": [
  {
   "cell_type": "markdown",
   "metadata": {},
   "source": [
    "#### Flask Framework\n",
    "- WSGI -> Web Server Gateway Interface\n",
    "- Jinga 2 Template Engine"
   ]
  },
  {
   "cell_type": "markdown",
   "metadata": {},
   "source": [
    "#### Flask\n",
    "It is a web framework which is created with the Python Programming language."
   ]
  },
  {
   "cell_type": "markdown",
   "metadata": {},
   "source": [
    "#### It has two major components\n",
    "1. WSGI -> It is a protocal in between webserver and web app. i.e. based on this protocal the request is redirect to the web app, and the web app will provide some kind of response and then web server will send response to the end user or clients.\n",
    "2. Jinja2 template Engine -> Web template engine\n",
    "  The main important of this template engine is , it combines a web template (any pages in website) with a datasources(SQL DB,CSV sheet,ML Model,MongoDB). \n",
    "  From these particular datasources, we will be getting data inside the partcular web template & entire web page will be loaded. We are creating dynamic web pages."
   ]
  }
 ],
 "metadata": {
  "kernelspec": {
   "display_name": "Python 3",
   "language": "python",
   "name": "python3"
  },
  "language_info": {
   "name": "python",
   "version": "3.12.4"
  }
 },
 "nbformat": 4,
 "nbformat_minor": 2
}
