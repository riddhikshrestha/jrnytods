{
 "cells": [
  {
   "cell_type": "markdown",
   "metadata": {},
   "source": [
    "#### Filter() function\n",
    "#### The filter() function constructs an iterator from elements of an iterable for which a function returns true. It is used to filter out items from a list (or any other iterable) based on a condition."
   ]
  },
  {
   "cell_type": "code",
   "execution_count": 1,
   "metadata": {},
   "outputs": [
    {
     "data": {
      "text/plain": [
       "True"
      ]
     },
     "execution_count": 1,
     "metadata": {},
     "output_type": "execute_result"
    }
   ],
   "source": [
    "# Let's have an example to check if a number is even or not using a fuction.\n",
    "def even(num):\n",
    "    if num%2==0:\n",
    "        return True\n",
    "    \n",
    "even(2)"
   ]
  },
  {
   "cell_type": "code",
   "execution_count": 2,
   "metadata": {},
   "outputs": [
    {
     "data": {
      "text/plain": [
       "[2, 4, 6, 8, 10, 12]"
      ]
     },
     "execution_count": 2,
     "metadata": {},
     "output_type": "execute_result"
    }
   ],
   "source": [
    "# But let's say we have list of numbers then,\n",
    "lst = [1,2,3,4,5,6,7,8,9,10,11,12]\n",
    "\n",
    "# filter usually take two parameters, first paramter is function name and second parameter is our iterable(list)\n",
    "list(filter(even,lst))"
   ]
  },
  {
   "cell_type": "code",
   "execution_count": 3,
   "metadata": {},
   "outputs": [
    {
     "name": "stdout",
     "output_type": "stream",
     "text": [
      "[6, 7, 8, 9]\n"
     ]
    }
   ],
   "source": [
    "## filter with a lambda function\n",
    "numbers = [1,2,3,4,5,6,7,8,9]\n",
    "\n",
    "# Q. use a filter and take out the number which is greter then 5?\n",
    "greater_than_five = list(filter(lambda x:x>5,numbers))\n",
    "print(greater_than_five)"
   ]
  },
  {
   "cell_type": "code",
   "execution_count": 4,
   "metadata": {},
   "outputs": [
    {
     "name": "stdout",
     "output_type": "stream",
     "text": [
      "[6, 8]\n"
     ]
    }
   ],
   "source": [
    "## Filter with a lambda function and multiple conditions\n",
    "numbers = [1,2,3,4,5,6,7,8,9]\n",
    "even_and_greater_than_five = list(filter(lambda x:x>5 and x%2==0,numbers))\n",
    "print(even_and_greater_than_five)"
   ]
  },
  {
   "cell_type": "code",
   "execution_count": 5,
   "metadata": {},
   "outputs": [
    {
     "name": "stdout",
     "output_type": "stream",
     "text": [
      "[{'name': 'Riddhi', 'age': 32}, {'name': 'Prem', 'age': 27}, {'name': 'Ashok', 'age': 33}]\n"
     ]
    }
   ],
   "source": [
    "## Filter() to check if the age is greater than 25 in dictionaries\n",
    "people = [\n",
    "    {'name':'Riddhi','age':32},\n",
    "    {'name':'Prem','age':27},\n",
    "    {'name':'Rishika','age':4},\n",
    "    {'name':'Ashok','age':33}\n",
    "]\n",
    "\n",
    "def age_greater_then_25(person):\n",
    "    return person['age']>25\n",
    "\n",
    "people_age_greater_then_25=list(filter(age_greater_then_25,people))\n",
    "print(people_age_greater_then_25)"
   ]
  },
  {
   "cell_type": "code",
   "execution_count": null,
   "metadata": {},
   "outputs": [],
   "source": []
  }
 ],
 "metadata": {
  "kernelspec": {
   "display_name": "Python 3",
   "language": "python",
   "name": "python3"
  },
  "language_info": {
   "codemirror_mode": {
    "name": "ipython",
    "version": 3
   },
   "file_extension": ".py",
   "mimetype": "text/x-python",
   "name": "python",
   "nbconvert_exporter": "python",
   "pygments_lexer": "ipython3",
   "version": "3.12.3"
  }
 },
 "nbformat": 4,
 "nbformat_minor": 2
}
