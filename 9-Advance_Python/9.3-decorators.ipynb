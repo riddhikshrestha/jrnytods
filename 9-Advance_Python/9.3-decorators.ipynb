{
 "cells": [
  {
   "cell_type": "markdown",
   "metadata": {},
   "source": [
    "### Decorators\n",
    "Decorators are a powerful and flexible feature in Python that allows you to modify the behavior of a function or class method. They are commonly used to add functionality to functions or methods without modifying their actual code."
   ]
  },
  {
   "cell_type": "markdown",
   "metadata": {},
   "source": [
    "#### Function Copy\n",
    "#### closures\n",
    "#### decorators"
   ]
  },
  {
   "cell_type": "code",
   "execution_count": 7,
   "metadata": {},
   "outputs": [
    {
     "data": {
      "text/plain": [
       "'Welcome to my learning path.'"
      ]
     },
     "execution_count": 7,
     "metadata": {},
     "output_type": "execute_result"
    }
   ],
   "source": [
    "## Function copy\n",
    "def welcome():\n",
    "    return \"Welcome to my learning path.\"\n",
    "\n",
    "welcome()"
   ]
  },
  {
   "cell_type": "code",
   "execution_count": 8,
   "metadata": {},
   "outputs": [
    {
     "name": "stdout",
     "output_type": "stream",
     "text": [
      "Welcome to my learning path.\n",
      "Welcome to my learning path.\n"
     ]
    }
   ],
   "source": [
    "wel = welcome\n",
    "print(wel())\n",
    "#delete the welcome\n",
    "del welcome\n",
    "print(wel())"
   ]
  },
  {
   "cell_type": "markdown",
   "metadata": {},
   "source": [
    "- In function copy wheen we copy one function to another function\n",
    "- With the reference function, if we delete it also, the variable will have function\n",
    "- with which we get the function even when we delete it that we created before due to function copy"
   ]
  },
  {
   "cell_type": "code",
   "execution_count": 28,
   "metadata": {},
   "outputs": [],
   "source": [
    "## Closures functions: function inside function and return type is actually a sub function\n",
    "\n",
    "## method inside method\n",
    "## pass parameter as method\n",
    "\n",
    "def main_welcome(msg):\n",
    "    # msg = \"welcome\"\n",
    "    def sub_welcome_method():\n",
    "        print(\"Welcome to my learning path.\")\n",
    "        print(msg)\n",
    "        print(\"Please learn the concept properly.\")\n",
    "    return sub_welcome_method()"
   ]
  },
  {
   "cell_type": "code",
   "execution_count": 18,
   "metadata": {},
   "outputs": [
    {
     "name": "stdout",
     "output_type": "stream",
     "text": [
      "Welcome to my learning path.\n",
      "welcome jrtods\n",
      "Please learn the concept properly.\n"
     ]
    }
   ],
   "source": [
    "main_welcome(\"welcome jrtods\")"
   ]
  },
  {
   "cell_type": "code",
   "execution_count": 21,
   "metadata": {},
   "outputs": [],
   "source": [
    "## function as arguemnt: inbuilt function e.g. print, len etc\n",
    "def main_welcome(func):\n",
    "    # msg = \"welcome\"\n",
    "    def sub_welcome_method():\n",
    "        print(\"Welcome to my learning path.\")\n",
    "        func(\"Welcome to jrtods\")\n",
    "        print(\"Please learn the concept properly.\")\n",
    "    return sub_welcome_method()"
   ]
  },
  {
   "cell_type": "code",
   "execution_count": 23,
   "metadata": {},
   "outputs": [
    {
     "name": "stdout",
     "output_type": "stream",
     "text": [
      "Welcome to my learning path.\n",
      "Welcome to jrtods\n",
      "Please learn the concept properly.\n"
     ]
    }
   ],
   "source": [
    "main_welcome(print)   # function as arguments"
   ]
  },
  {
   "cell_type": "code",
   "execution_count": 26,
   "metadata": {},
   "outputs": [],
   "source": [
    "def main_welcome(func,lst):\n",
    "    # msg = \"welcome\"\n",
    "    def sub_welcome_method():\n",
    "        print(\"Welcome to my learning path.\")\n",
    "        print(func(lst))\n",
    "        print(\"Please learn the concept properly.\")\n",
    "    return sub_welcome_method()"
   ]
  },
  {
   "cell_type": "code",
   "execution_count": 27,
   "metadata": {},
   "outputs": [
    {
     "name": "stdout",
     "output_type": "stream",
     "text": [
      "Welcome to my learning path.\n",
      "5\n",
      "Please learn the concept properly.\n"
     ]
    }
   ],
   "source": [
    "main_welcome(len,[1,2,3,4,5])"
   ]
  },
  {
   "cell_type": "code",
   "execution_count": 29,
   "metadata": {},
   "outputs": [],
   "source": [
    "### Decorator\n",
    "def main_welcome(func):\n",
    "    \n",
    "    def sub_welcome_method():\n",
    "        print(\"Welcome to my learning path.\")\n",
    "        func()\n",
    "        print(\"Please learn the concept properly.\")\n",
    "    return sub_welcome_method()"
   ]
  },
  {
   "cell_type": "code",
   "execution_count": 30,
   "metadata": {},
   "outputs": [
    {
     "name": "stdout",
     "output_type": "stream",
     "text": [
      "This is an master python course\n"
     ]
    }
   ],
   "source": [
    "def course_introduction():\n",
    "    print(\"This is an master python course\")\n",
    "\n",
    "course_introduction()"
   ]
  },
  {
   "cell_type": "code",
   "execution_count": 31,
   "metadata": {},
   "outputs": [
    {
     "name": "stdout",
     "output_type": "stream",
     "text": [
      "Welcome to my learning path.\n",
      "This is an master python course\n",
      "Please learn the concept properly.\n"
     ]
    }
   ],
   "source": [
    "main_welcome(course_introduction)"
   ]
  },
  {
   "cell_type": "code",
   "execution_count": 32,
   "metadata": {},
   "outputs": [
    {
     "name": "stdout",
     "output_type": "stream",
     "text": [
      "Welcome to my learning path.\n",
      "This is an master python course\n",
      "Please learn the concept properly.\n"
     ]
    }
   ],
   "source": [
    "## Decorator Example\n",
    "@main_welcome\n",
    "def course_introduction():\n",
    "    print(\"This is an master python course\")\n"
   ]
  },
  {
   "cell_type": "code",
   "execution_count": 33,
   "metadata": {},
   "outputs": [],
   "source": [
    "## Whenever we write as it decoratore using '@method_name' ; we pass course_introduction method as parameter in that method."
   ]
  },
  {
   "cell_type": "code",
   "execution_count": 34,
   "metadata": {},
   "outputs": [],
   "source": [
    "## Decoratore: Example 2\n",
    "def my_decorator(func):\n",
    "    def wrapper():\n",
    "        print(\"Something is happing before the function is called.\")\n",
    "        func()\n",
    "        print(\"Something is happing after the function is called.\")\n",
    "    return wrapper"
   ]
  },
  {
   "cell_type": "code",
   "execution_count": 35,
   "metadata": {},
   "outputs": [],
   "source": [
    "@my_decorator\n",
    "def say_hello():\n",
    "    print(\"Hello!!\")"
   ]
  },
  {
   "cell_type": "code",
   "execution_count": 36,
   "metadata": {},
   "outputs": [
    {
     "name": "stdout",
     "output_type": "stream",
     "text": [
      "Something is happing before the function is called.\n",
      "Hello!!\n",
      "Something is happing after the function is called.\n"
     ]
    }
   ],
   "source": [
    "say_hello()"
   ]
  },
  {
   "cell_type": "code",
   "execution_count": 37,
   "metadata": {},
   "outputs": [],
   "source": [
    "## Decorator with arguments\n",
    "def repeat(n):\n",
    "    def decorator(func):\n",
    "        def wrapper(*args,**kwargs):\n",
    "            for _ in range(n):\n",
    "                func(*args,**kwargs)\n",
    "        return wrapper\n",
    "    return decorator"
   ]
  },
  {
   "cell_type": "code",
   "execution_count": 38,
   "metadata": {},
   "outputs": [],
   "source": [
    "@repeat(3)\n",
    "def say_hello():\n",
    "    print(\"Hello!!!\")"
   ]
  },
  {
   "cell_type": "code",
   "execution_count": 39,
   "metadata": {},
   "outputs": [
    {
     "name": "stdout",
     "output_type": "stream",
     "text": [
      "Hello!!!\n",
      "Hello!!!\n",
      "Hello!!!\n"
     ]
    }
   ],
   "source": [
    "say_hello()"
   ]
  }
 ],
 "metadata": {
  "kernelspec": {
   "display_name": "Python 3",
   "language": "python",
   "name": "python3"
  },
  "language_info": {
   "codemirror_mode": {
    "name": "ipython",
    "version": 3
   },
   "file_extension": ".py",
   "mimetype": "text/x-python",
   "name": "python",
   "nbconvert_exporter": "python",
   "pygments_lexer": "ipython3",
   "version": "3.12.4"
  }
 },
 "nbformat": 4,
 "nbformat_minor": 2
}
