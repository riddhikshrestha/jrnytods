{
 "cells": [
  {
   "attachments": {},
   "cell_type": "markdown",
   "metadata": {},
   "source": [
    "# Coonditional Statements (if, elif, else)\n",
    "### Outline:\n",
    "### 1. Conditional Statements\n",
    "### 2. if statement\n",
    "### 3. elif statement\n",
    "### 4. else statement\n",
    "### 5. Nested Conditional Statments\n",
    "### 6. Examples\n",
    "### 7. Common Errors"
   ]
  },
  {
   "cell_type": "markdown",
   "metadata": {},
   "source": []
  },
  {
   "cell_type": "code",
   "execution_count": 1,
   "metadata": {},
   "outputs": [
    {
     "name": "stdout",
     "output_type": "stream",
     "text": [
      "You are allowed to caste in election\n"
     ]
    }
   ],
   "source": [
    "## if statement\n",
    "age = 25\n",
    "\n",
    "if age>=18:\n",
    "    print(\"You are allowed to caste in election.\")"
   ]
  },
  {
   "cell_type": "code",
   "execution_count": 2,
   "metadata": {},
   "outputs": [
    {
     "name": "stdout",
     "output_type": "stream",
     "text": [
      "You are not eligible to caste vote.\n"
     ]
    }
   ],
   "source": [
    "## else statement\n",
    "## The else statement executes a block of code if the condition in the if statement is false.\n",
    "age = 16\n",
    "\n",
    "if age>=18:\n",
    "    print(\"You are allowed to caste in election.\")\n",
    "else:\n",
    "    print(\"You are not eligible to caste vote.\")\n"
   ]
  },
  {
   "cell_type": "code",
   "execution_count": 3,
   "metadata": {},
   "outputs": [
    {
     "name": "stdout",
     "output_type": "stream",
     "text": [
      "You are teenager.\n"
     ]
    }
   ],
   "source": [
    "## elif statement\n",
    "## The elif statement allows you to check mulitple conditions. It stands for 'else if'\n",
    "age = 17\n",
    "\n",
    "if age < 13:\n",
    "    print(\"Your are child.\")\n",
    "elif age<18:\n",
    "    print(\"You are teenager.\")\n",
    "else:\n",
    "    print(\"You are adult.\")"
   ]
  },
  {
   "cell_type": "code",
   "execution_count": 7,
   "metadata": {},
   "outputs": [
    {
     "name": "stdout",
     "output_type": "stream",
     "text": [
      "The number 0 is zero or negative.\n"
     ]
    }
   ],
   "source": [
    "## Nested Conditional Statements\n",
    "# You can place one or more if, elif or else statement inside another if,elif or else statment.\n",
    "\n",
    "## check if number is odd,even,negative\n",
    "\n",
    "num = int(input(\"Enter the Number.\"))\n",
    "if (num>0):\n",
    "    print(\"The number {} is positive.\".format(num))\n",
    "    if (num%2==0):\n",
    "        print(\"The number {} is even.\".format(num))\n",
    "    else:\n",
    "        print(\"The number {} is odd.\".format(num))\n",
    "else:\n",
    "    print(\"The number {} is zero or negative.\".format(num))"
   ]
  },
  {
   "cell_type": "code",
   "execution_count": 10,
   "metadata": {},
   "outputs": [
    {
     "name": "stdout",
     "output_type": "stream",
     "text": [
      "The year 2024 is a leap year.\n"
     ]
    }
   ],
   "source": [
    "## Practical Examples\n",
    "\n",
    "## Determin if a year is leap year using nested condition statement.\n",
    "year = int(input(\"Enter the year.\"))\n",
    "if (year%4==0):\n",
    "    if year%100==0:\n",
    "        if year%400==0:\n",
    "            print(\"The year {} is a leap year.\".format(year))\n",
    "        else:\n",
    "            print(\"The year {} is not a leap year.\".format(year))\n",
    "    else:\n",
    "        print(\"The year {} is a leap year.\".format(year))\n",
    "else:\n",
    "    print(\"The year {} is not a leap year.\".format(year))"
   ]
  },
  {
   "cell_type": "code",
   "execution_count": 11,
   "metadata": {},
   "outputs": [
    {
     "name": "stdout",
     "output_type": "stream",
     "text": [
      "Result:  15.0\n"
     ]
    }
   ],
   "source": [
    "## Assignement:\n",
    "## Simple Calculator\n",
    "\n",
    "num1 = float(input(\"Enter first number.\"))\n",
    "num2 = float(input(\"Enter second number.\"))\n",
    "operation = input(\"Enter operation (+,-,*,/): \")\n",
    "\n",
    "if operation == '+':\n",
    "    result = num1 + num2\n",
    "elif operation == '-':\n",
    "    result = num1 - num2\n",
    "elif operation == '*':\n",
    "    result = num1 * num2\n",
    "elif operation == '/':\n",
    "    if num2 !=0:\n",
    "        result = num1/num2\n",
    "    else:\n",
    "        result = \"Division by zero error.\"\n",
    "else:\n",
    "    result = \"Invalid operation. \"\n",
    "\n",
    "print(\"Result: \",result)"
   ]
  },
  {
   "cell_type": "code",
   "execution_count": 12,
   "metadata": {},
   "outputs": [
    {
     "name": "stdout",
     "output_type": "stream",
     "text": [
      "Ticket Price:  $18\n"
     ]
    }
   ],
   "source": [
    "## Determine the ticket price based on age and whether the person is a student.\n",
    "# Ticket price based on age and student status\n",
    "\n",
    "age = int(input(\"Enter your age: \"))\n",
    "is_student = input(\"Are you a student? (yes/no): \").lower()\n",
    "\n",
    "#Determine ticket price\n",
    "if age<5:\n",
    "    price = \"Free\"\n",
    "elif age <= 12:\n",
    "    price = \"$10\"\n",
    "elif age <=17:\n",
    "    if is_student == 'yes':\n",
    "        price = \"$12\"\n",
    "    else:\n",
    "        price = \"$15\"\n",
    "elif age <= 64:\n",
    "    if is_student == 'yes':\n",
    "        price = \"$18\"\n",
    "    else:\n",
    "        price = \"$25\"\n",
    "else:\n",
    "    price = \"$20\"\n",
    "\n",
    "print(\"Ticket Price: \",price)\n"
   ]
  }
 ],
 "metadata": {
  "kernelspec": {
   "display_name": "Python 3",
   "language": "python",
   "name": "python3"
  },
  "language_info": {
   "codemirror_mode": {
    "name": "ipython",
    "version": 3
   },
   "file_extension": ".py",
   "mimetype": "text/x-python",
   "name": "python",
   "nbconvert_exporter": "python",
   "pygments_lexer": "ipython3",
   "version": "3.12.3"
  },
  "orig_nbformat": 4
 },
 "nbformat": 4,
 "nbformat_minor": 2
}
