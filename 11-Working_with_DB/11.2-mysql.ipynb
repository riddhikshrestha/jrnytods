{
 "cells": [
  {
   "cell_type": "markdown",
   "metadata": {},
   "source": [
    "#### MySql with Python\n",
    "\n",
    "##### Install require package i.e. mysql-connector-python\n"
   ]
  },
  {
   "cell_type": "code",
   "execution_count": 1,
   "metadata": {},
   "outputs": [
    {
     "name": "stdout",
     "output_type": "stream",
     "text": [
      "Collecting mysql-connector-python\n",
      "  Downloading mysql_connector_python-9.0.0-cp312-cp312-win_amd64.whl.metadata (2.0 kB)\n",
      "Downloading mysql_connector_python-9.0.0-cp312-cp312-win_amd64.whl (14.3 MB)\n",
      "   ---------------------------------------- 0.0/14.3 MB ? eta -:--:--\n",
      "   ---------------------------------------- 0.0/14.3 MB ? eta -:--:--\n",
      "   ---------------------------------------- 0.0/14.3 MB 435.7 kB/s eta 0:00:33\n",
      "   ---------------------------------------- 0.1/14.3 MB 939.4 kB/s eta 0:00:16\n",
      "    --------------------------------------- 0.3/14.3 MB 1.6 MB/s eta 0:00:09\n",
      "   - -------------------------------------- 0.5/14.3 MB 2.3 MB/s eta 0:00:06\n",
      "   -- ------------------------------------- 1.0/14.3 MB 4.0 MB/s eta 0:00:04\n",
      "   ----- ---------------------------------- 2.0/14.3 MB 6.9 MB/s eta 0:00:02\n",
      "   ------- -------------------------------- 2.8/14.3 MB 8.0 MB/s eta 0:00:02\n",
      "   ------- -------------------------------- 2.8/14.3 MB 7.3 MB/s eta 0:00:02\n",
      "   ------- -------------------------------- 2.8/14.3 MB 7.3 MB/s eta 0:00:02\n",
      "   ------- -------------------------------- 2.8/14.3 MB 7.3 MB/s eta 0:00:02\n",
      "   ------------- -------------------------- 4.9/14.3 MB 9.9 MB/s eta 0:00:01\n",
      "   ------------- -------------------------- 5.0/14.3 MB 9.1 MB/s eta 0:00:02\n",
      "   ---------------- ----------------------- 6.1/14.3 MB 9.7 MB/s eta 0:00:01\n",
      "   ----------------- ---------------------- 6.2/14.3 MB 9.6 MB/s eta 0:00:01\n",
      "   -------------------- ------------------- 7.2/14.3 MB 10.0 MB/s eta 0:00:01\n",
      "   ----------------------- ---------------- 8.6/14.3 MB 11.2 MB/s eta 0:00:01\n",
      "   -------------------------- ------------- 9.4/14.3 MB 11.6 MB/s eta 0:00:01\n",
      "   ---------------------------- ----------- 10.3/14.3 MB 12.6 MB/s eta 0:00:01\n",
      "   ------------------------------ --------- 11.1/14.3 MB 15.2 MB/s eta 0:00:01\n",
      "   --------------------------------- ------ 11.9/14.3 MB 15.2 MB/s eta 0:00:01\n",
      "   ----------------------------------- ---- 12.7/14.3 MB 15.2 MB/s eta 0:00:01\n",
      "   ------------------------------------- -- 13.6/14.3 MB 18.7 MB/s eta 0:00:01\n",
      "   ---------------------------------------  14.3/14.3 MB 17.7 MB/s eta 0:00:01\n",
      "   ---------------------------------------- 14.3/14.3 MB 16.8 MB/s eta 0:00:00\n",
      "Installing collected packages: mysql-connector-python\n",
      "Successfully installed mysql-connector-python-9.0.0\n"
     ]
    }
   ],
   "source": [
    "!pip install mysql-connector-python"
   ]
  },
  {
   "cell_type": "markdown",
   "metadata": {},
   "source": [
    "#### Creating Database in MySql"
   ]
  },
  {
   "cell_type": "code",
   "execution_count": 3,
   "metadata": {},
   "outputs": [
    {
     "name": "stdout",
     "output_type": "stream",
     "text": [
      "<mysql.connector.connection_cext.CMySQLConnection object at 0x000002DC84F79C70>\n"
     ]
    }
   ],
   "source": [
    "## Create SQL Connection\n",
    "import mysql.connector as sql\n",
    "\n",
    "connection = sql.connect(\n",
    "    host=\"localhost\",\n",
    "    user=\"root\",\n",
    "    password=\"\"\n",
    ")\n",
    "\n",
    "print(connection)"
   ]
  },
  {
   "cell_type": "markdown",
   "metadata": {},
   "source": [
    "#### Creating Database"
   ]
  },
  {
   "cell_type": "code",
   "execution_count": 4,
   "metadata": {},
   "outputs": [],
   "source": [
    "cursor = connection.cursor()\n",
    "\n",
    "cursor.execute(\"CREATE DATABASE student\")"
   ]
  },
  {
   "cell_type": "code",
   "execution_count": 5,
   "metadata": {},
   "outputs": [],
   "source": [
    "cursor.execute(\"SHOW DATABASES\")"
   ]
  },
  {
   "cell_type": "code",
   "execution_count": 6,
   "metadata": {},
   "outputs": [
    {
     "name": "stdout",
     "output_type": "stream",
     "text": [
      "('advancedatabase',)\n",
      "('ajax',)\n",
      "('codigo',)\n",
      "('codigo_new',)\n",
      "('codigotech',)\n",
      "('cpwebapp',)\n",
      "('information_schema',)\n",
      "('kmc_db',)\n",
      "('libraryproject',)\n",
      "('mydba',)\n",
      "('mysql',)\n",
      "('performance_schema',)\n",
      "('phpmyadmin',)\n",
      "('st_law_db',)\n",
      "('stlawarencedb',)\n",
      "('student',)\n",
      "('test',)\n"
     ]
    }
   ],
   "source": [
    "for database in cursor:\n",
    "    print(database)"
   ]
  },
  {
   "cell_type": "markdown",
   "metadata": {},
   "source": [
    "#### Execute and Drop Some Databases"
   ]
  },
  {
   "cell_type": "code",
   "execution_count": 8,
   "metadata": {},
   "outputs": [],
   "source": [
    "\n",
    "cursor.execute(\"DROP database test\")"
   ]
  },
  {
   "cell_type": "code",
   "execution_count": 10,
   "metadata": {},
   "outputs": [
    {
     "name": "stdout",
     "output_type": "stream",
     "text": [
      "('advancedatabase',)\n",
      "('ajax',)\n",
      "('codigo',)\n",
      "('codigo_new',)\n",
      "('codigotech',)\n",
      "('cpwebapp',)\n",
      "('information_schema',)\n",
      "('kmc_db',)\n",
      "('libraryproject',)\n",
      "('mydba',)\n",
      "('mysql',)\n",
      "('performance_schema',)\n",
      "('phpmyadmin',)\n",
      "('st_law_db',)\n",
      "('stlawarencedb',)\n",
      "('student',)\n"
     ]
    }
   ],
   "source": [
    "cursor.execute(\"SHOW DATABASES\")\n",
    "\n",
    "for database in cursor:\n",
    "    print(database)"
   ]
  },
  {
   "cell_type": "markdown",
   "metadata": {},
   "source": [
    "#### Create Table and Insert Records"
   ]
  },
  {
   "cell_type": "code",
   "execution_count": 11,
   "metadata": {},
   "outputs": [
    {
     "name": "stdout",
     "output_type": "stream",
     "text": [
      "<mysql.connector.connection_cext.CMySQLConnection object at 0x000002DC85652C30>\n"
     ]
    }
   ],
   "source": [
    "## Create MySQL Connection and Connect\n",
    "import mysql.connector as sql\n",
    "\n",
    "connection = sql.connect(\n",
    "    host=\"localhost\",\n",
    "    user=\"root\",\n",
    "    password=\"\",\n",
    "    database=\"student\"\n",
    ")\n",
    "\n",
    "print(connection)"
   ]
  },
  {
   "cell_type": "markdown",
   "metadata": {},
   "source": [
    "#### Create Table in MySQL using Python"
   ]
  },
  {
   "cell_type": "code",
   "execution_count": 12,
   "metadata": {},
   "outputs": [],
   "source": [
    "cursor = connection.cursor()\n",
    "\n",
    "cursor.execute(\"CREATE TABLE studentinfo (id INT AUTO_INCREMENT PRIMARY KEY, name VARCHAR(255), subject VARCHAR(255))\")"
   ]
  },
  {
   "cell_type": "markdown",
   "metadata": {},
   "source": [
    "#### Insert Records in Table"
   ]
  },
  {
   "cell_type": "code",
   "execution_count": 15,
   "metadata": {},
   "outputs": [
    {
     "name": "stdout",
     "output_type": "stream",
     "text": [
      "Row inserted 3\n"
     ]
    }
   ],
   "source": [
    "query = \"INSERT INTO studentinfo(name,subject) VALUES (%s, %s)\"\n",
    "value = (\"John\",\"Stats\")\n",
    "cursor.execute(query,value)\n",
    "print(\"Row inserted\",cursor.lastrowid)"
   ]
  },
  {
   "cell_type": "code",
   "execution_count": 16,
   "metadata": {},
   "outputs": [
    {
     "name": "stdout",
     "output_type": "stream",
     "text": [
      "Row inserted 7\n"
     ]
    }
   ],
   "source": [
    "## Insert mulitpl records in Table\n",
    "query = \"INSERT into studentinfo(name,subject)VALUES(%s,%s)\"\n",
    "values = [(\"Ram\",\"Stats\"),\n",
    "          (\"Joe\",\"Math\"),\n",
    "          (\"Ricky\",\"Data Science\"),\n",
    "          (\"Emmy\",\"AI\")]\n",
    "cursor.executemany(query,values)\n",
    "print(\"Row inserted\",cursor.lastrowid)"
   ]
  },
  {
   "cell_type": "markdown",
   "metadata": {},
   "source": [
    "#### Select ALL"
   ]
  },
  {
   "cell_type": "code",
   "execution_count": 34,
   "metadata": {},
   "outputs": [],
   "source": [
    "cursor = connection.cursor()\n",
    "cursor.execute(\"select * from studentinfo\")"
   ]
  },
  {
   "cell_type": "code",
   "execution_count": 33,
   "metadata": {},
   "outputs": [
    {
     "data": {
      "text/plain": [
       "[(2, 'John', 'Stats'),\n",
       " (3, 'John', 'Stats'),\n",
       " (4, 'Ram', 'Stats'),\n",
       " (5, 'Joe', 'Math'),\n",
       " (6, 'Ricky', 'Data Science'),\n",
       " (7, 'Emmy', 'AI')]"
      ]
     },
     "execution_count": 33,
     "metadata": {},
     "output_type": "execute_result"
    }
   ],
   "source": [
    "## Fetch all the data\n",
    "cursor.fetchall()"
   ]
  },
  {
   "cell_type": "code",
   "execution_count": 30,
   "metadata": {},
   "outputs": [
    {
     "data": {
      "text/plain": [
       "(1, 'John', 'Stats')"
      ]
     },
     "execution_count": 30,
     "metadata": {},
     "output_type": "execute_result"
    }
   ],
   "source": [
    "## Fetch one record at a time\n",
    "cursor.fetchone()"
   ]
  },
  {
   "cell_type": "code",
   "execution_count": 36,
   "metadata": {},
   "outputs": [],
   "source": [
    "lst =cursor.fetchall()"
   ]
  },
  {
   "cell_type": "code",
   "execution_count": 37,
   "metadata": {},
   "outputs": [
    {
     "name": "stdout",
     "output_type": "stream",
     "text": [
      "(1, 'John', 'Stats')\n",
      "(2, 'John', 'Stats')\n",
      "(3, 'John', 'Stats')\n",
      "(4, 'Ram', 'Stats')\n",
      "(5, 'Joe', 'Math')\n",
      "(6, 'Ricky', 'Data Science')\n",
      "(7, 'Emmy', 'AI')\n"
     ]
    }
   ],
   "source": [
    "for record in lst:\n",
    "    print(record)"
   ]
  },
  {
   "cell_type": "markdown",
   "metadata": {},
   "source": [
    "#### Selecting Partcular Rows"
   ]
  },
  {
   "cell_type": "code",
   "execution_count": 38,
   "metadata": {},
   "outputs": [],
   "source": [
    "cursor.execute(\"Select * from studentinfo where name='John'\")"
   ]
  },
  {
   "cell_type": "code",
   "execution_count": 39,
   "metadata": {},
   "outputs": [
    {
     "data": {
      "text/plain": [
       "[(1, 'John', 'Stats'), (2, 'John', 'Stats'), (3, 'John', 'Stats')]"
      ]
     },
     "execution_count": 39,
     "metadata": {},
     "output_type": "execute_result"
    }
   ],
   "source": [
    "## Fetch all the data\n",
    "cursor.fetchall()"
   ]
  },
  {
   "cell_type": "markdown",
   "metadata": {},
   "source": [
    "#### Selecting Particular columns"
   ]
  },
  {
   "cell_type": "code",
   "execution_count": 40,
   "metadata": {},
   "outputs": [
    {
     "data": {
      "text/plain": [
       "[('Stats',),\n",
       " ('Stats',),\n",
       " ('Stats',),\n",
       " ('Stats',),\n",
       " ('Math',),\n",
       " ('Data Science',),\n",
       " ('AI',)]"
      ]
     },
     "execution_count": 40,
     "metadata": {},
     "output_type": "execute_result"
    }
   ],
   "source": [
    "cursor.execute(\"select subject from studentinfo\")\n",
    "## Fetch all\n",
    "cursor.fetchall()"
   ]
  },
  {
   "cell_type": "code",
   "execution_count": 41,
   "metadata": {},
   "outputs": [
    {
     "data": {
      "text/plain": [
       "[('John',), ('Ram',), ('Joe',), ('Ricky',), ('Emmy',)]"
      ]
     },
     "execution_count": 41,
     "metadata": {},
     "output_type": "execute_result"
    }
   ],
   "source": [
    "## Select distinct columns\n",
    "cursor.execute(\"SELECT DISTINCT name from studentinfo\")\n",
    "## Fetch all\n",
    "cursor.fetchall()"
   ]
  },
  {
   "cell_type": "code",
   "execution_count": 42,
   "metadata": {},
   "outputs": [
    {
     "data": {
      "text/plain": [
       "[('John', 'Stats'), ('John', 'Stats'), ('John', 'Stats'), ('Ram', 'Stats')]"
      ]
     },
     "execution_count": 42,
     "metadata": {},
     "output_type": "execute_result"
    }
   ],
   "source": [
    "cursor.execute(\"select name,subject from studentinfo where name='John' OR subject='Stats'\")\n",
    "## Fetch all\n",
    "cursor.fetchall()"
   ]
  },
  {
   "cell_type": "markdown",
   "metadata": {},
   "source": [
    "#### Edit\n",
    "#### Delete"
   ]
  },
  {
   "cell_type": "markdown",
   "metadata": {},
   "source": [
    "#### Drop Table"
   ]
  },
  {
   "cell_type": "code",
   "execution_count": 44,
   "metadata": {},
   "outputs": [],
   "source": [
    "cursor.execute(\"DROP TABLE studentinfo\")"
   ]
  }
 ],
 "metadata": {
  "kernelspec": {
   "display_name": "Python 3",
   "language": "python",
   "name": "python3"
  },
  "language_info": {
   "codemirror_mode": {
    "name": "ipython",
    "version": 3
   },
   "file_extension": ".py",
   "mimetype": "text/x-python",
   "name": "python",
   "nbconvert_exporter": "python",
   "pygments_lexer": "ipython3",
   "version": "3.12.4"
  }
 },
 "nbformat": 4,
 "nbformat_minor": 2
}
