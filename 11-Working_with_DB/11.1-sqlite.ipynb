{
 "cells": [
  {
   "cell_type": "markdown",
   "metadata": {},
   "source": [
    "#### SQL and SQLite\n",
    "- SQL(Structured Query Language) is a standard language for managing and manipulating relational databases.\n",
    "- SQLite is a self-contained, serverless, and zero-configuration database engine that is widely used for embedded database systems."
   ]
  },
  {
   "cell_type": "code",
   "execution_count": 1,
   "metadata": {},
   "outputs": [],
   "source": [
    "import sqlite3"
   ]
  },
  {
   "cell_type": "code",
   "execution_count": 2,
   "metadata": {},
   "outputs": [
    {
     "data": {
      "text/plain": [
       "<sqlite3.Connection at 0x254ac7347c0>"
      ]
     },
     "execution_count": 2,
     "metadata": {},
     "output_type": "execute_result"
    }
   ],
   "source": [
    "## connect to SQLite database\n",
    "connection = sqlite3.connect('example.db')\n",
    "connection"
   ]
  },
  {
   "cell_type": "code",
   "execution_count": 3,
   "metadata": {},
   "outputs": [],
   "source": [
    "## cursor: It is a object that will help us to iterate through our database, to create table.. etc\n",
    "cursor= connection.cursor()"
   ]
  },
  {
   "cell_type": "code",
   "execution_count": 4,
   "metadata": {},
   "outputs": [],
   "source": [
    "## create a Table\n",
    "cursor.execute('''\n",
    "Create Table If Not Exists employees(\n",
    "               id Integer Primary Key,\n",
    "               name Text Not Null,\n",
    "               age Integer,\n",
    "               department Text\n",
    "               )\n",
    "''')\n",
    "\n",
    "## Commit the changes : without commit we can't have changes to our db.\n",
    "connection.commit()"
   ]
  },
  {
   "cell_type": "code",
   "execution_count": 5,
   "metadata": {},
   "outputs": [
    {
     "data": {
      "text/plain": [
       "<sqlite3.Cursor at 0x254ac972440>"
      ]
     },
     "execution_count": 5,
     "metadata": {},
     "output_type": "execute_result"
    }
   ],
   "source": [
    "# select a table\n",
    "cursor.execute('''\n",
    "Select * from employees\n",
    "''')"
   ]
  },
  {
   "cell_type": "code",
   "execution_count": 8,
   "metadata": {},
   "outputs": [],
   "source": [
    "## insert the data in sqlite3 table\n",
    "cursor.execute('''\n",
    "Insert into employees(name,age,department)\n",
    "               values('Riddhi',29,'Data Scientist')\n",
    "''')\n",
    "\n",
    "cursor.execute('''\n",
    "Insert into employees(name,age,department)\n",
    "               values('Ashok',28,'Sr. Software Engineer')\n",
    "''')\n",
    "\n",
    "cursor.execute('''\n",
    "Insert into employees(name,age,department)\n",
    "               values('Dipen',30,'Web Developer')\n",
    "''')\n",
    "\n",
    "# commit the changes\n",
    "connection.commit()"
   ]
  },
  {
   "cell_type": "code",
   "execution_count": 9,
   "metadata": {},
   "outputs": [
    {
     "name": "stdout",
     "output_type": "stream",
     "text": [
      "(1, 'Riddhi', 29, 'Data Scientist')\n",
      "(2, 'Ashok', 28, 'Sr. Software Engineer')\n",
      "(3, 'Dipen', 30, 'Web Developer')\n"
     ]
    }
   ],
   "source": [
    "## Query the data from the table\n",
    "cursor.execute('select * from employees')\n",
    "rows=cursor.fetchall()\n",
    "\n",
    "# print the queried data\n",
    "for row in rows:\n",
    "    print(row)"
   ]
  },
  {
   "cell_type": "code",
   "execution_count": 10,
   "metadata": {},
   "outputs": [],
   "source": [
    "## update data in the table\n",
    "cursor.execute('''\n",
    "UPDATE employees \n",
    "               set age=27 \n",
    "               where name='Riddhi'\n",
    "''')\n",
    "\n",
    "connection.commit()"
   ]
  },
  {
   "cell_type": "code",
   "execution_count": 12,
   "metadata": {},
   "outputs": [
    {
     "name": "stdout",
     "output_type": "stream",
     "text": [
      "(1, 'Riddhi', 27, 'Data Scientist')\n",
      "(2, 'Ashok', 28, 'Sr. Software Engineer')\n",
      "(3, 'Dipen', 30, 'Web Developer')\n"
     ]
    }
   ],
   "source": [
    "## Query the data from the table after modification\n",
    "cursor.execute('select * from employees')\n",
    "rows=cursor.fetchall()\n",
    "\n",
    "# print the queried data\n",
    "for row in rows:\n",
    "    print(row)"
   ]
  },
  {
   "cell_type": "code",
   "execution_count": 13,
   "metadata": {},
   "outputs": [],
   "source": [
    "## Delete the data from the table\n",
    "cursor.execute('''\n",
    "DELETE from employees\n",
    "               where name='Dipen'\n",
    "''')\n",
    "\n",
    "connection.commit()"
   ]
  },
  {
   "cell_type": "code",
   "execution_count": 14,
   "metadata": {},
   "outputs": [
    {
     "name": "stdout",
     "output_type": "stream",
     "text": [
      "(1, 'Riddhi', 27, 'Data Scientist')\n",
      "(2, 'Ashok', 28, 'Sr. Software Engineer')\n"
     ]
    }
   ],
   "source": [
    "## Query the data from the table after modification\n",
    "cursor.execute('select * from employees')\n",
    "rows=cursor.fetchall()\n",
    "\n",
    "# print the queried data\n",
    "for row in rows:\n",
    "    print(row)"
   ]
  },
  {
   "cell_type": "code",
   "execution_count": 16,
   "metadata": {},
   "outputs": [],
   "source": [
    "## Project: Working with Sales Data\n",
    "# connect to an Sqlite databse\n",
    "connection = sqlite3.connect('sales_data.db')\n",
    "cursor = connection.cursor()\n",
    "\n",
    "# create a table for sals data\n",
    "cursor.execute('''\n",
    "CREATE TABLE IF NOT EXISTS sales(\n",
    "               id INTEGER PRIMARY KEY,\n",
    "               date TEXT NOT NULL,\n",
    "               product TEXT NOT NULL,\n",
    "               sales INTEGER,\n",
    "               region TEXT\n",
    "               )\n",
    "''')\n",
    "\n",
    "## Insert data into the sales table\n",
    "sales_data = [\n",
    "    ('2024-01-01','Product1',100,'North'),\n",
    "    ('2024-01-02','Product2',200,'South'),\n",
    "    ('2024-01-03','Product1',150,'East'),\n",
    "    ('2024-01-04','Product3',250,'West'),\n",
    "    ('2024-01-05','Product2',300,'North')\n",
    "]\n",
    "\n",
    "#bulk insert\n",
    "cursor.executemany('''\n",
    "Insert into sales(date,product,sales,region)\n",
    "                   values(?,?,?,?)\n",
    "''',sales_data)\n",
    "\n",
    "connection.commit()"
   ]
  },
  {
   "cell_type": "code",
   "execution_count": 17,
   "metadata": {},
   "outputs": [
    {
     "name": "stdout",
     "output_type": "stream",
     "text": [
      "(1, '2024-01-01', 'Product1', 100, 'North')\n",
      "(2, '2024-01-02', 'Product2', 200, 'South')\n",
      "(3, '2024-01-03', 'Product1', 150, 'East')\n",
      "(4, '2024-01-04', 'Product3', 250, 'West')\n",
      "(5, '2024-01-05', 'Product2', 300, 'North')\n"
     ]
    }
   ],
   "source": [
    "## Query the data from the table \n",
    "cursor.execute('select * from sales')\n",
    "rows=cursor.fetchall()\n",
    "\n",
    "# print the queried data\n",
    "for row in rows:\n",
    "    print(row)"
   ]
  },
  {
   "cell_type": "code",
   "execution_count": 18,
   "metadata": {},
   "outputs": [],
   "source": [
    "## close the connection\n",
    "connection.close()"
   ]
  }
 ],
 "metadata": {
  "kernelspec": {
   "display_name": "Python 3",
   "language": "python",
   "name": "python3"
  },
  "language_info": {
   "codemirror_mode": {
    "name": "ipython",
    "version": 3
   },
   "file_extension": ".py",
   "mimetype": "text/x-python",
   "name": "python",
   "nbconvert_exporter": "python",
   "pygments_lexer": "ipython3",
   "version": "3.12.4"
  }
 },
 "nbformat": 4,
 "nbformat_minor": 2
}
